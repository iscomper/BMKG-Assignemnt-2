{
  "cells": [
    {
      "cell_type": "markdown",
      "metadata": {},
      "source": [
        "# 📘 KG course SPARQL notebook\n",
        "\n",
        "A notebook to run SPARQL queries for the KG course at UM DACS.\n",
        "\n",
        "1. Update the `g.parse()` calls in the first cell to import your RDF files.\n",
        "2. In the same folder as the notebook create files with your SPARQL queries (e.g. `q1.rq`), and execute them with `run_query(g, 'q1.rq')`\n",
        "\n",
        "Use the `.rq` file extension to get SPARQL syntax coloration"
      ]
    },
    {
      "cell_type": "code",
      "execution_count": 6,
      "metadata": {},
      "outputs": [
        {
          "name": "stderr",
          "output_type": "stream",
          "text": [
            "\n",
            "[notice] A new release of pip is available: 24.0 -> 25.0.1\n",
            "[notice] To update, run: c:\\Users\\annamaria.grillhosl\\.pyenv\\pyenv-win\\versions\\3.12.0\\python.exe -m pip install --upgrade pip\n",
            "Failed to convert Literal lexical form to value. Datatype=http://www.w3.org/2001/XMLSchema#duration, Converter=<function parse_duration at 0x0000023630554540>\n",
            "Traceback (most recent call last):\n",
            "  File \"c:\\Users\\annamaria.grillhosl\\.pyenv\\pyenv-win\\versions\\3.12.0\\Lib\\site-packages\\rdflib\\term.py\", line 2119, in _castLexicalToPython\n",
            "    URIRef(_XSD_PFX + \"unsignedLong\"): _well_formed_unsignedlong,\n",
            "                   ^^^^^^^^^^^^^^^^^^\n",
            "  File \"c:\\Users\\annamaria.grillhosl\\.pyenv\\pyenv-win\\versions\\3.12.0\\Lib\\site-packages\\isodate\\isoduration.py\", line 104, in parse_duration\n",
            "    raise ISO8601Error(\"Unable to parse duration string %r\" % datestring)\n",
            "isodate.isoerror.ISO8601Error: Unable to parse duration string 'nan'\n",
            "Failed to convert Literal lexical form to value. Datatype=http://www.w3.org/2001/XMLSchema#duration, Converter=<function parse_duration at 0x0000023630554540>\n",
            "Traceback (most recent call last):\n",
            "  File \"c:\\Users\\annamaria.grillhosl\\.pyenv\\pyenv-win\\versions\\3.12.0\\Lib\\site-packages\\rdflib\\term.py\", line 2119, in _castLexicalToPython\n",
            "    URIRef(_XSD_PFX + \"unsignedLong\"): _well_formed_unsignedlong,\n",
            "                   ^^^^^^^^^^^^^^^^^^\n",
            "  File \"c:\\Users\\annamaria.grillhosl\\.pyenv\\pyenv-win\\versions\\3.12.0\\Lib\\site-packages\\isodate\\isoduration.py\", line 104, in parse_duration\n",
            "    raise ISO8601Error(\"Unable to parse duration string %r\" % datestring)\n",
            "isodate.isoerror.ISO8601Error: Unable to parse duration string 'nan'\n",
            "Failed to convert Literal lexical form to value. Datatype=http://www.w3.org/2001/XMLSchema#duration, Converter=<function parse_duration at 0x0000023630554540>\n",
            "Traceback (most recent call last):\n",
            "  File \"c:\\Users\\annamaria.grillhosl\\.pyenv\\pyenv-win\\versions\\3.12.0\\Lib\\site-packages\\rdflib\\term.py\", line 2119, in _castLexicalToPython\n",
            "    URIRef(_XSD_PFX + \"unsignedLong\"): _well_formed_unsignedlong,\n",
            "                   ^^^^^^^^^^^^^^^^^^\n",
            "  File \"c:\\Users\\annamaria.grillhosl\\.pyenv\\pyenv-win\\versions\\3.12.0\\Lib\\site-packages\\isodate\\isoduration.py\", line 104, in parse_duration\n",
            "    raise ISO8601Error(\"Unable to parse duration string %r\" % datestring)\n",
            "isodate.isoerror.ISO8601Error: Unable to parse duration string 'nan'\n",
            "Failed to convert Literal lexical form to value. Datatype=http://www.w3.org/2001/XMLSchema#duration, Converter=<function parse_duration at 0x0000023630554540>\n",
            "Traceback (most recent call last):\n",
            "  File \"c:\\Users\\annamaria.grillhosl\\.pyenv\\pyenv-win\\versions\\3.12.0\\Lib\\site-packages\\rdflib\\term.py\", line 2119, in _castLexicalToPython\n",
            "    URIRef(_XSD_PFX + \"unsignedLong\"): _well_formed_unsignedlong,\n",
            "                   ^^^^^^^^^^^^^^^^^^\n",
            "  File \"c:\\Users\\annamaria.grillhosl\\.pyenv\\pyenv-win\\versions\\3.12.0\\Lib\\site-packages\\isodate\\isoduration.py\", line 104, in parse_duration\n",
            "    raise ISO8601Error(\"Unable to parse duration string %r\" % datestring)\n",
            "isodate.isoerror.ISO8601Error: Unable to parse duration string 'nan'\n",
            "Failed to convert Literal lexical form to value. Datatype=http://www.w3.org/2001/XMLSchema#duration, Converter=<function parse_duration at 0x0000023630554540>\n",
            "Traceback (most recent call last):\n",
            "  File \"c:\\Users\\annamaria.grillhosl\\.pyenv\\pyenv-win\\versions\\3.12.0\\Lib\\site-packages\\rdflib\\term.py\", line 2119, in _castLexicalToPython\n",
            "    URIRef(_XSD_PFX + \"unsignedLong\"): _well_formed_unsignedlong,\n",
            "                   ^^^^^^^^^^^^^^^^^^\n",
            "  File \"c:\\Users\\annamaria.grillhosl\\.pyenv\\pyenv-win\\versions\\3.12.0\\Lib\\site-packages\\isodate\\isoduration.py\", line 104, in parse_duration\n",
            "    raise ISO8601Error(\"Unable to parse duration string %r\" % datestring)\n",
            "isodate.isoerror.ISO8601Error: Unable to parse duration string 'nan'\n"
          ]
        },
        {
          "name": "stdout",
          "output_type": "stream",
          "text": [
            "Requirement already satisfied: pandas in c:\\users\\annamaria.grillhosl\\.pyenv\\pyenv-win\\versions\\3.12.0\\lib\\site-packages (2.1.4)\n",
            "Requirement already satisfied: oxrdflib in c:\\users\\annamaria.grillhosl\\.pyenv\\pyenv-win\\versions\\3.12.0\\lib\\site-packages (0.4.0)\n",
            "Requirement already satisfied: Pygments in c:\\users\\annamaria.grillhosl\\.pyenv\\pyenv-win\\versions\\3.12.0\\lib\\site-packages (2.19.1)\n",
            "Requirement already satisfied: numpy<2,>=1.26.0 in c:\\users\\annamaria.grillhosl\\.pyenv\\pyenv-win\\versions\\3.12.0\\lib\\site-packages (from pandas) (1.26.3)\n",
            "Requirement already satisfied: python-dateutil>=2.8.2 in c:\\users\\annamaria.grillhosl\\.pyenv\\pyenv-win\\versions\\3.12.0\\lib\\site-packages (from pandas) (2.8.2)\n",
            "Requirement already satisfied: pytz>=2020.1 in c:\\users\\annamaria.grillhosl\\.pyenv\\pyenv-win\\versions\\3.12.0\\lib\\site-packages (from pandas) (2023.3.post1)\n",
            "Requirement already satisfied: tzdata>=2022.1 in c:\\users\\annamaria.grillhosl\\.pyenv\\pyenv-win\\versions\\3.12.0\\lib\\site-packages (from pandas) (2023.4)\n",
            "Requirement already satisfied: pyoxigraph~=0.4.2 in c:\\users\\annamaria.grillhosl\\.pyenv\\pyenv-win\\versions\\3.12.0\\lib\\site-packages (from oxrdflib) (0.4.7)\n",
            "Requirement already satisfied: rdflib<8.0,>=6.3 in c:\\users\\annamaria.grillhosl\\.pyenv\\pyenv-win\\versions\\3.12.0\\lib\\site-packages (from oxrdflib) (7.1.3)\n",
            "Requirement already satisfied: six>=1.5 in c:\\users\\annamaria.grillhosl\\.pyenv\\pyenv-win\\versions\\3.12.0\\lib\\site-packages (from python-dateutil>=2.8.2->pandas) (1.16.0)\n",
            "Requirement already satisfied: pyparsing<4,>=2.1.0 in c:\\users\\annamaria.grillhosl\\.pyenv\\pyenv-win\\versions\\3.12.0\\lib\\site-packages (from rdflib<8.0,>=6.3->oxrdflib) (3.1.1)\n",
            "Working with 1801 triples\n"
          ]
        }
      ],
      "source": [
        "import sys\n",
        "!{sys.executable} -m pip install pandas oxrdflib Pygments\n",
        "\n",
        "import pandas as pd\n",
        "from IPython.display import display, HTML\n",
        "from pygments import highlight\n",
        "from pygments.lexers import SparqlLexer\n",
        "from pygments.formatters import HtmlFormatter\n",
        "from rdflib import Graph\n",
        "\n",
        "def run_query(graph, query_path):\n",
        "    try:\n",
        "        with open(query_path, 'r') as file:\n",
        "            query = file.read()\n",
        "    except Exception as _e:\n",
        "        print(f\"No file for {query_path}\")\n",
        "        return\n",
        "    results = graph.query(query)\n",
        "    # Display the SPARQL query\n",
        "    formatted_query = highlight(query, SparqlLexer(), HtmlFormatter(style='solarized-dark', full=True, nobackground=True))\n",
        "    display(HTML(formatted_query))\n",
        "    # Convert results to a Pandas DataFrame\n",
        "    res_list = []\n",
        "    for row in results:\n",
        "        res_list.append([str(item) for item in row])\n",
        "    df = pd.DataFrame(res_list, columns=[str(var) for var in results.vars]) if len(res_list) > 0 else pd.DataFrame()\n",
        "    # Display the DataFrame as a table in Jupyter Notebook\n",
        "    display(HTML(df.to_html()))\n",
        "\n",
        "g = Graph(store=\"Oxigraph\")\n",
        "\n",
        "# TODO: modify/add paths to your RDF files\n",
        "g.parse(\"food_kg.ttl\")\n",
        "\n",
        "print(f\"Working with {len(g)} triples\")"
      ]
    },
    {
      "cell_type": "markdown",
      "metadata": {},
      "source": [
        "1. Identify one type of quality check different than above, write and run SPARQL to implement the check and return the violating entities."
      ]
    },
    {
      "cell_type": "code",
      "execution_count": null,
      "metadata": {},
      "outputs": [
        {
          "name": "stdout",
          "output_type": "stream",
          "text": [
            "No file for check_ingredients_in_instruction.rq.rq\n"
          ]
        }
      ],
      "source": [
        "run_query(g, 'check_ingredients_in_instruction.rq')"
      ]
    },
    {
      "cell_type": "markdown",
      "metadata": {},
      "source": [
        "2. Identify a second type of quality check different than above, write and run SPARQL to implement the check and return the violating entities."
      ]
    },
    {
      "cell_type": "code",
      "execution_count": null,
      "metadata": {},
      "outputs": [],
      "source": [
        "run_query(g, 'q2.rq')"
      ]
    },
    {
      "cell_type": "markdown",
      "metadata": {},
      "source": [
        "3. Identify a third type of quality check different than above, write and run SPARQL to implement the check and return the violating entities."
      ]
    },
    {
      "cell_type": "code",
      "execution_count": null,
      "metadata": {},
      "outputs": [],
      "source": [
        "run_query(g, 'q3.rq')"
      ]
    },
    {
      "cell_type": "markdown",
      "metadata": {},
      "source": [
        "4. Identify a forth type of quality check different than above, write and run SPARQL to implement the check and return the violating entities."
      ]
    },
    {
      "cell_type": "code",
      "execution_count": null,
      "metadata": {},
      "outputs": [],
      "source": [
        "run_query(g, 'q4.rq')"
      ]
    },
    {
      "cell_type": "markdown",
      "metadata": {},
      "source": [
        "5. Identify a fifth type of quality check different than above, write and run SPARQL to implement the check and return the violating entities."
      ]
    },
    {
      "cell_type": "code",
      "execution_count": null,
      "metadata": {},
      "outputs": [],
      "source": [
        "run_query(g, 'q5.rq')"
      ]
    },
    {
      "cell_type": "markdown",
      "metadata": {},
      "source": [
        "6. Identify a sixth type of quality check different than above, write and run SPARQL to implement the check and return the violating entities."
      ]
    },
    {
      "cell_type": "code",
      "execution_count": null,
      "metadata": {},
      "outputs": [],
      "source": [
        "run_query(g, 'q6.rq')"
      ]
    },
    {
      "cell_type": "markdown",
      "metadata": {},
      "source": [
        "7. Identify a seventh type of quality check different than above, write and run SPARQL to implement the check and return the violating entities."
      ]
    },
    {
      "cell_type": "code",
      "execution_count": null,
      "metadata": {},
      "outputs": [],
      "source": [
        "run_query(g, 'q7.rq')"
      ]
    },
    {
      "cell_type": "markdown",
      "metadata": {},
      "source": [
        "8. Identify an eighth type of quality check different than above, write and run SPARQL to implement the check and return the violating entities."
      ]
    },
    {
      "cell_type": "code",
      "execution_count": null,
      "metadata": {},
      "outputs": [],
      "source": [
        "run_query(g, 'q8.rq')"
      ]
    },
    {
      "cell_type": "markdown",
      "metadata": {},
      "source": [
        "9. Identify a seventh type of quality check different than above, write and run SPARQL to implement the check and return the violating entities."
      ]
    },
    {
      "cell_type": "code",
      "execution_count": null,
      "metadata": {},
      "outputs": [],
      "source": [
        "run_query(g, 'q9.rq')"
      ]
    },
    {
      "cell_type": "markdown",
      "metadata": {},
      "source": [
        "10. Identify a final type of quality check different than above, write and run SPARQL to implement the check and return the violating entities."
      ]
    },
    {
      "cell_type": "code",
      "execution_count": null,
      "metadata": {},
      "outputs": [],
      "source": [
        "run_query(g, 'q10.rq')"
      ]
    }
  ],
  "metadata": {
    "colab": {
      "provenance": []
    },
    "kernelspec": {
      "display_name": "Python 3",
      "language": "python",
      "name": "python3"
    },
    "language_info": {
      "codemirror_mode": {
        "name": "ipython",
        "version": 3
      },
      "file_extension": ".py",
      "mimetype": "text/x-python",
      "name": "python",
      "nbconvert_exporter": "python",
      "pygments_lexer": "ipython3",
      "version": "3.12.0"
    }
  },
  "nbformat": 4,
  "nbformat_minor": 0
}
