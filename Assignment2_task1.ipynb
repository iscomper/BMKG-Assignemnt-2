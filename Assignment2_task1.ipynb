{
 "cells": [
  {
   "cell_type": "code",
   "execution_count": 3,
   "metadata": {},
   "outputs": [
    {
     "name": "stdout",
     "output_type": "stream",
     "text": [
      "Defaulting to user installation because normal site-packages is not writeable\n",
      "Collecting pyshacl\n",
      "  Downloading pyshacl-0.28.1-py3-none-any.whl (1.3 MB)\n",
      "Collecting owlrl<7,>=6.0.2\n",
      "  Downloading owlrl-6.0.2-py3-none-any.whl (54 kB)\n",
      "Requirement already satisfied: packaging>=21.3 in c:\\program files\\python38\\lib\\site-packages (from pyshacl) (23.1)\n",
      "Collecting prettytable>=3.5.0\n",
      "  Downloading prettytable-3.11.0-py3-none-any.whl (28 kB)\n",
      "Requirement already satisfied: importlib-metadata>6 in c:\\program files\\python38\\lib\\site-packages (from pyshacl) (6.6.0)\n",
      "Requirement already satisfied: rdflib[html]<8.0,>=6.3.2 in c:\\users\\arjun\\appdata\\roaming\\python\\python38\\site-packages (from pyshacl) (7.1.3)\n",
      "Requirement already satisfied: zipp>=0.5 in c:\\program files\\python38\\lib\\site-packages (from importlib-metadata>6->pyshacl) (3.15.0)\n",
      "Requirement already satisfied: wcwidth in c:\\users\\arjun\\appdata\\roaming\\python\\python38\\site-packages (from prettytable>=3.5.0->pyshacl) (0.2.12)\n",
      "Requirement already satisfied: pyparsing<4,>=2.1.0 in c:\\users\\arjun\\appdata\\roaming\\python\\python38\\site-packages (from rdflib[html]<8.0,>=6.3.2->pyshacl) (3.1.1)\n",
      "Requirement already satisfied: isodate<1.0.0,>=0.7.2 in c:\\users\\arjun\\appdata\\roaming\\python\\python38\\site-packages (from rdflib[html]<8.0,>=6.3.2->pyshacl) (0.7.2)\n",
      "Collecting html5rdf<2,>=1.2\n",
      "  Downloading html5rdf-1.2.1-py2.py3-none-any.whl (109 kB)\n",
      "Installing collected packages: html5rdf, prettytable, owlrl, pyshacl\n",
      "Successfully installed html5rdf-1.2.1 owlrl-6.0.2 prettytable-3.11.0 pyshacl-0.28.1\n"
     ]
    },
    {
     "name": "stderr",
     "output_type": "stream",
     "text": [
      "WARNING: You are using pip version 21.1.1; however, version 25.0.1 is available.\n",
      "You should consider upgrading via the 'c:\\program files\\python38\\python.exe -m pip install --upgrade pip' command.\n"
     ]
    }
   ],
   "source": [
    "!pip install pyshacl"
   ]
  },
  {
   "cell_type": "code",
   "execution_count": 4,
   "metadata": {},
   "outputs": [],
   "source": [
    "from pyshacl import validate\n",
    "import rdflib\n",
    "from rdflib import Graph, Namespace, URIRef, Literal, RDF, RDFS, OWL, Literal, URIRef\n",
    "from rdflib.namespace import FOAF, DCTERMS, XSD, RDF, SDO, RDFS\n",
    "from SPARQLWrapper import SPARQLWrapper, JSON\n",
    "\n",
    "g = Graph()\n",
    "\n",
    "rdf     = rdflib.Namespace(\"http://www.w3.org/1999/02/22-rdf-syntax-ns#\")\n",
    "rdfs    = rdflib.Namespace(\"http://www.w3.org/2000/01/rdf-schema#\")\n",
    "gr      = rdflib.Namespace(\"http://purl.org/goodrelations/v1#\")\n",
    "owl     = rdflib.Namespace(\"http://www.w3.org/2002/07/owl#\")\n",
    "SDO     = rdflib.Namespace(\"https://schema.org/\")\n",
    "dbo     = rdflib.Namespace(\"http://dbpedia.org/ontology/\")\n",
    "dbr     = rdflib.Namespace(\"http://dbpedia.org/resource/\")\n",
    "xsd     = rdflib.Namespace(\"http://www.w3.org/2001/XMLSchema#\")\n",
    "\n",
    "g.bind(\"schema\", SDO)\n",
    "g.bind(\"dbo\",dbo)\n",
    "g.bind(\"dbr\",dbr)\n",
    "g.bind(\"rdf\", rdf)\n",
    "g.bind(\"rdfs\", rdfs)\n",
    "g.bind(\"gr\", gr)\n",
    "g.bind(\"owl\", owl)\n",
    "g.bind(\"xsd\", xsd)\n",
    "g.bind(\"schema\", SDO)\n",
    "\n",
    "ex = Namespace('http://example.org/L4/')\n",
    "g.bind('ex',ex)\n"
   ]
  },
  {
   "cell_type": "code",
   "execution_count": 5,
   "metadata": {
    "scrolled": true
   },
   "outputs": [
    {
     "name": "stderr",
     "output_type": "stream",
     "text": [
      "Failed to convert Literal lexical form to value. Datatype=http://www.w3.org/2001/XMLSchema#duration, Converter=<function parse_xsd_duration at 0x00000244B96E3820>\n",
      "Traceback (most recent call last):\n",
      "  File \"C:\\Users\\arjun\\AppData\\Roaming\\Python\\Python38\\site-packages\\rdflib\\term.py\", line 2163, in _castLexicalToPython\n",
      "    return conv_func(lexical)  # type: ignore[arg-type]\n",
      "  File \"C:\\Users\\arjun\\AppData\\Roaming\\Python\\Python38\\site-packages\\rdflib\\xsd_datetime.py\", line 433, in parse_xsd_duration\n",
      "    raise ValueError(\"Unable to parse duration string \" + dur_string)\n",
      "ValueError: Unable to parse duration string nan\n",
      "Failed to convert Literal lexical form to value. Datatype=http://www.w3.org/2001/XMLSchema#duration, Converter=<function parse_xsd_duration at 0x00000244B96E3820>\n",
      "Traceback (most recent call last):\n",
      "  File \"C:\\Users\\arjun\\AppData\\Roaming\\Python\\Python38\\site-packages\\rdflib\\term.py\", line 2163, in _castLexicalToPython\n",
      "    return conv_func(lexical)  # type: ignore[arg-type]\n",
      "  File \"C:\\Users\\arjun\\AppData\\Roaming\\Python\\Python38\\site-packages\\rdflib\\xsd_datetime.py\", line 433, in parse_xsd_duration\n",
      "    raise ValueError(\"Unable to parse duration string \" + dur_string)\n",
      "ValueError: Unable to parse duration string nan\n"
     ]
    },
    {
     "name": "stderr",
     "output_type": "stream",
     "text": [
      "Failed to convert Literal lexical form to value. Datatype=http://www.w3.org/2001/XMLSchema#duration, Converter=<function parse_xsd_duration at 0x00000244B96E3820>\n",
      "Traceback (most recent call last):\n",
      "  File \"C:\\Users\\arjun\\AppData\\Roaming\\Python\\Python38\\site-packages\\rdflib\\term.py\", line 2163, in _castLexicalToPython\n",
      "    return conv_func(lexical)  # type: ignore[arg-type]\n",
      "  File \"C:\\Users\\arjun\\AppData\\Roaming\\Python\\Python38\\site-packages\\rdflib\\xsd_datetime.py\", line 433, in parse_xsd_duration\n",
      "    raise ValueError(\"Unable to parse duration string \" + dur_string)\n",
      "ValueError: Unable to parse duration string nan\n",
      "Failed to convert Literal lexical form to value. Datatype=http://www.w3.org/2001/XMLSchema#duration, Converter=<function parse_xsd_duration at 0x00000244B96E3820>\n",
      "Traceback (most recent call last):\n",
      "  File \"C:\\Users\\arjun\\AppData\\Roaming\\Python\\Python38\\site-packages\\rdflib\\term.py\", line 2163, in _castLexicalToPython\n",
      "    return conv_func(lexical)  # type: ignore[arg-type]\n",
      "  File \"C:\\Users\\arjun\\AppData\\Roaming\\Python\\Python38\\site-packages\\rdflib\\xsd_datetime.py\", line 433, in parse_xsd_duration\n",
      "    raise ValueError(\"Unable to parse duration string \" + dur_string)\n",
      "ValueError: Unable to parse duration string nan\n",
      "Failed to convert Literal lexical form to value. Datatype=http://www.w3.org/2001/XMLSchema#duration, Converter=<function parse_xsd_duration at 0x00000244B96E3820>\n",
      "Traceback (most recent call last):\n",
      "  File \"C:\\Users\\arjun\\AppData\\Roaming\\Python\\Python38\\site-packages\\rdflib\\term.py\", line 2163, in _castLexicalToPython\n",
      "    return conv_func(lexical)  # type: ignore[arg-type]\n",
      "  File \"C:\\Users\\arjun\\AppData\\Roaming\\Python\\Python38\\site-packages\\rdflib\\xsd_datetime.py\", line 433, in parse_xsd_duration\n",
      "    raise ValueError(\"Unable to parse duration string \" + dur_string)\n",
      "ValueError: Unable to parse duration string nan\n"
     ]
    },
    {
     "name": "stdout",
     "output_type": "stream",
     "text": [
      "Subject: http://kg-course/food-nutrition/recipe/100573, datePublished: 2004-09-24T19:59:00+00:00, Datatype: http://www.w3.org/2001/XMLSchema#dateTime\n",
      "Subject: http://kg-course/food-nutrition/recipe/121241, datePublished: 2005-05-09T20:00:00+00:00, Datatype: http://www.w3.org/2001/XMLSchema#dateTime\n",
      "Subject: http://kg-course/food-nutrition/recipe/142426, datePublished: 2005-10-23T19:42:00+00:00, Datatype: http://www.w3.org/2001/XMLSchema#dateTime\n",
      "Subject: http://kg-course/food-nutrition/recipe/148683, datePublished: 2005-12-18T18:42:00+00:00, Datatype: http://www.w3.org/2001/XMLSchema#dateTime\n",
      "Subject: http://kg-course/food-nutrition/recipe/162371, datePublished: 2006-03-31T10:27:00+00:00, Datatype: http://www.w3.org/2001/XMLSchema#dateTime\n",
      "Subject: http://kg-course/food-nutrition/recipe/204921, datePublished: 2007-01-11T19:59:00+00:00, Datatype: http://www.w3.org/2001/XMLSchema#dateTime\n",
      "Subject: http://kg-course/food-nutrition/recipe/213018, datePublished: 2007-02-22T16:55:00+00:00, Datatype: http://www.w3.org/2001/XMLSchema#dateTime\n",
      "Subject: http://kg-course/food-nutrition/recipe/235499, datePublished: 2007-06-19T20:05:00+00:00, Datatype: http://www.w3.org/2001/XMLSchema#dateTime\n",
      "Subject: http://kg-course/food-nutrition/recipe/237567, datePublished: 2007-06-27T22:31:00+00:00, Datatype: http://www.w3.org/2001/XMLSchema#dateTime\n",
      "Subject: http://kg-course/food-nutrition/recipe/241266, datePublished: 2007-07-18T16:39:00+00:00, Datatype: http://www.w3.org/2001/XMLSchema#dateTime\n",
      "Subject: http://kg-course/food-nutrition/recipe/241886, datePublished: 2007-07-23T21:29:00+00:00, Datatype: http://www.w3.org/2001/XMLSchema#dateTime\n",
      "Subject: http://kg-course/food-nutrition/recipe/242430, datePublished: 2007-07-25T20:50:00+00:00, Datatype: http://www.w3.org/2001/XMLSchema#dateTime\n",
      "Subject: http://kg-course/food-nutrition/recipe/244649, datePublished: 2007-08-06T15:47:00+00:00, Datatype: http://www.w3.org/2001/XMLSchema#dateTime\n",
      "Subject: http://kg-course/food-nutrition/recipe/245931, datePublished: 2007-08-12T21:11:00+00:00, Datatype: http://www.w3.org/2001/XMLSchema#dateTime\n",
      "Subject: http://kg-course/food-nutrition/recipe/262155, datePublished: 2007-10-30T00:21:00+00:00, Datatype: http://www.w3.org/2001/XMLSchema#dateTime\n",
      "Subject: http://kg-course/food-nutrition/recipe/280584, datePublished: 2008-01-22T22:09:00+00:00, Datatype: http://www.w3.org/2001/XMLSchema#dateTime\n",
      "Subject: http://kg-course/food-nutrition/recipe/295900, datePublished: 2008-04-02T01:33:00+00:00, Datatype: http://www.w3.org/2001/XMLSchema#dateTime\n",
      "Subject: http://kg-course/food-nutrition/recipe/305119, datePublished: 2008-05-27T23:25:00+00:00, Datatype: http://www.w3.org/2001/XMLSchema#dateTime\n",
      "Subject: http://kg-course/food-nutrition/recipe/314970, datePublished: 2008-07-22T02:03:00+00:00, Datatype: http://www.w3.org/2001/XMLSchema#dateTime\n",
      "Subject: http://kg-course/food-nutrition/recipe/318443, datePublished: 2008-08-08T15:33:00+00:00, Datatype: http://www.w3.org/2001/XMLSchema#dateTime\n",
      "Subject: http://kg-course/food-nutrition/recipe/321461, datePublished: 2008-08-26T00:54:00+00:00, Datatype: http://www.w3.org/2001/XMLSchema#dateTime\n",
      "Subject: http://kg-course/food-nutrition/recipe/323316, datePublished: 2008-09-04T21:53:00+00:00, Datatype: http://www.w3.org/2001/XMLSchema#dateTime\n",
      "Subject: http://kg-course/food-nutrition/recipe/323652, datePublished: 2008-09-06T10:34:00+00:00, Datatype: http://www.w3.org/2001/XMLSchema#dateTime\n",
      "Subject: http://kg-course/food-nutrition/recipe/323867, datePublished: 2008-09-08T01:12:00+00:00, Datatype: http://www.w3.org/2001/XMLSchema#dateTime\n",
      "Subject: http://kg-course/food-nutrition/recipe/336136, datePublished: 2008-11-09T20:31:00+00:00, Datatype: http://www.w3.org/2001/XMLSchema#dateTime\n",
      "Subject: http://kg-course/food-nutrition/recipe/337283, datePublished: 2008-11-14T18:39:00+00:00, Datatype: http://www.w3.org/2001/XMLSchema#dateTime\n",
      "Subject: http://kg-course/food-nutrition/recipe/38, datePublished: 1999-08-09T21:46:00+00:00, Datatype: http://www.w3.org/2001/XMLSchema#dateTime\n",
      "Subject: http://kg-course/food-nutrition/recipe/39, datePublished: 1999-08-29T13:12:00+00:00, Datatype: http://www.w3.org/2001/XMLSchema#dateTime\n",
      "Subject: http://kg-course/food-nutrition/recipe/40, datePublished: 1999-09-05T19:52:00+00:00, Datatype: http://www.w3.org/2001/XMLSchema#dateTime\n",
      "Subject: http://kg-course/food-nutrition/recipe/406237, datePublished: 2010-01-01T20:58:00+00:00, Datatype: http://www.w3.org/2001/XMLSchema#dateTime\n",
      "Subject: http://kg-course/food-nutrition/recipe/41, datePublished: 1999-09-03T14:54:00+00:00, Datatype: http://www.w3.org/2001/XMLSchema#dateTime\n",
      "Subject: http://kg-course/food-nutrition/recipe/416077, datePublished: 2010-03-09T13:56:00+00:00, Datatype: http://www.w3.org/2001/XMLSchema#dateTime\n",
      "Subject: http://kg-course/food-nutrition/recipe/42, datePublished: 1999-09-19T06:19:00+00:00, Datatype: http://www.w3.org/2001/XMLSchema#dateTime\n",
      "Subject: http://kg-course/food-nutrition/recipe/43, datePublished: 1999-08-21T10:35:00+00:00, Datatype: http://www.w3.org/2001/XMLSchema#dateTime\n",
      "Subject: http://kg-course/food-nutrition/recipe/88095/, datePublished: 1999-08-21T10:35:00+00:00, Datatype: http://www.w3.org/2001/XMLSchema#dateTime\n",
      "Subject: http://kg-course/food-nutrition/recipe/434130, datePublished: 2010-08-03T16:58:00+00:00, Datatype: http://www.w3.org/2001/XMLSchema#dateTime\n",
      "Subject: http://kg-course/food-nutrition/recipe/44, datePublished: 1999-09-17T04:47:00+00:00, Datatype: http://www.w3.org/2001/XMLSchema#dateTime\n",
      "Subject: http://kg-course/food-nutrition/recipe/44395, datePublished: 2002-10-27T22:12:00+00:00, Datatype: http://www.w3.org/2001/XMLSchema#dateTime\n",
      "Subject: http://kg-course/food-nutrition/recipe/45, datePublished: 1999-08-06T00:40:00+00:00, Datatype: http://www.w3.org/2001/XMLSchema#dateTime\n",
      "Subject: http://kg-course/food-nutrition/recipe/45881, datePublished: 2002-11-13T20:03:00+00:00, Datatype: http://www.w3.org/2001/XMLSchema#dateTime\n",
      "Subject: http://kg-course/food-nutrition/recipe/46, datePublished: 1999-08-11T19:48:00+00:00, Datatype: http://www.w3.org/2001/XMLSchema#dateTime\n",
      "Subject: http://kg-course/food-nutrition/recipe/47, datePublished: 1999-09-07T09:01:00+00:00, Datatype: http://www.w3.org/2001/XMLSchema#dateTime\n",
      "Subject: http://kg-course/food-nutrition/recipe/48, datePublished: 1999-08-24T04:35:00+00:00, Datatype: http://www.w3.org/2001/XMLSchema#dateTime\n",
      "Subject: http://kg-course/food-nutrition/recipe/484928, datePublished: 2012-08-06T13:51:00+00:00, Datatype: http://www.w3.org/2001/XMLSchema#dateTime\n",
      "Subject: http://kg-course/food-nutrition/recipe/48678, datePublished: 2002-12-13T20:05:00+00:00, Datatype: http://www.w3.org/2001/XMLSchema#dateTime\n",
      "Subject: http://kg-course/food-nutrition/recipe/49, datePublished: 1999-08-14T19:58:00+00:00, Datatype: http://www.w3.org/2001/XMLSchema#dateTime\n",
      "Subject: http://kg-course/food-nutrition/recipe/510419, datePublished: 2013-12-06T18:38:00+00:00, Datatype: http://www.w3.org/2001/XMLSchema#dateTime\n",
      "Subject: http://kg-course/food-nutrition/recipe/520961, datePublished: 2015-02-05T03:57:00+00:00, Datatype: http://www.w3.org/2001/XMLSchema#dateTime\n",
      "Subject: http://kg-course/food-nutrition/recipe/536304, datePublished: 2018-07-13T19:54:00+00:00, Datatype: http://www.w3.org/2001/XMLSchema#dateTime\n",
      "Subject: http://kg-course/food-nutrition/recipe/55724, datePublished: 2003-03-06T20:01:00+00:00, Datatype: http://www.w3.org/2001/XMLSchema#dateTime\n",
      "Subject: http://kg-course/food-nutrition/recipe/57856, datePublished: 2003-04-03T20:15:00+00:00, Datatype: http://www.w3.org/2001/XMLSchema#dateTime\n",
      "Subject: http://kg-course/food-nutrition/recipe/57879, datePublished: 2003-04-03T20:16:00+00:00, Datatype: http://www.w3.org/2001/XMLSchema#dateTime\n",
      "Subject: http://kg-course/food-nutrition/recipe/58643, datePublished: 2003-04-07T20:17:00+00:00, Datatype: http://www.w3.org/2001/XMLSchema#dateTime\n",
      "Subject: http://kg-course/food-nutrition/recipe/74837, datePublished: 2003-11-01T20:00:00+00:00, Datatype: http://www.w3.org/2001/XMLSchema#dateTime\n",
      "Subject: http://kg-course/food-nutrition/recipe/88096, datePublished: 2004-04-02T20:00:00+00:00, Datatype: http://www.w3.org/2001/XMLSchema#dateTime\n",
      "Subject: http://kg-course/food-nutrition/recipe/98664, datePublished: 2004-08-27T19:59:00+00:00, Datatype: http://www.w3.org/2001/XMLSchema#dateTime\n"
     ]
    }
   ],
   "source": [
    "g.parse(\"food_kg.ttl\")\n",
    "\n",
    "\n",
    "check_datePublished = \"\"\"\n",
    "PREFIX schema: <https://schema.org/>\n",
    "PREFIX xsd: <http://www.w3.org/2001/XMLSchema#>\n",
    "\n",
    "SELECT ?subject ?datePublished (DATATYPE(?datePublished) AS ?datatype)\n",
    "WHERE {\n",
    "  ?subject schema:datePublished ?datePublished .\n",
    "}\n",
    "\"\"\"\n",
    "\n",
    "\n",
    "query_return = g.query(check_datePublished)\n",
    "for subject, datePublished, datatype in query_return:\n",
    "    print(f\"Subject: {subject}, datePublished: {datePublished}, Datatype: {datatype}\")"
   ]
  },
  {
   "cell_type": "code",
   "execution_count": 6,
   "metadata": {},
   "outputs": [
    {
     "name": "stdout",
     "output_type": "stream",
     "text": [
      "Subject: http://kg-course/food-nutrition/recipe/162371, cookTime: nan\n",
      "Subject: http://kg-course/food-nutrition/recipe/280584, cookTime: nan\n",
      "Subject: http://kg-course/food-nutrition/recipe/337283, cookTime: nan\n",
      "Subject: http://kg-course/food-nutrition/recipe/46, cookTime: nan\n",
      "Subject: http://kg-course/food-nutrition/recipe/48, cookTime: nan\n"
     ]
    }
   ],
   "source": [
    "check_nan = \"\"\"\n",
    "PREFIX schema: <https://schema.org/>\n",
    "\n",
    "SELECT ?subject ?cookTime\n",
    "WHERE {\n",
    "  ?subject schema:cookTime ?cookTime .\n",
    "  FILTER (regex(str(?cookTime), \"nan\", \"i\")) \n",
    "}\n",
    "\"\"\"\n",
    "\n",
    "query_return = g.query(check_nan)\n",
    "for subject, cookTime in query_return:\n",
    "    print(f\"Subject: {subject}, cookTime: {cookTime}\")"
   ]
  },
  {
   "cell_type": "code",
   "execution_count": 7,
   "metadata": {},
   "outputs": [
    {
     "name": "stdout",
     "output_type": "stream",
     "text": [
      "Properties: https://schema.org/recipeIngredient, Missing Range: http://www.w3.org/2001/XMLSchema#string\n"
     ]
    }
   ],
   "source": [
    "check_ObjectProperties_range = \"\"\"\n",
    "PREFIX rdf: <http://www.w3.org/1999/02/22-rdf-syntax-ns#>\n",
    "PREFIX rdfs: <http://www.w3.org/2000/01/rdf-schema#>\n",
    "PREFIX owl: <http://www.w3.org/2002/07/owl#>\n",
    "\n",
    "SELECT ?property ?range\n",
    "WHERE {\n",
    "  ?property a owl:ObjectProperty ;\n",
    "            rdfs:range ?range .\n",
    "  FILTER NOT EXISTS { ?range a owl:Class . }\n",
    "}\n",
    "\"\"\"\n",
    "\n",
    "query_return = g.query(check_ObjectProperties_range)\n",
    "for properties, range_and_class in query_return:\n",
    "    print(f\"Properties: {properties}, Missing Range: {range_and_class}\")"
   ]
  },
  {
   "cell_type": "code",
   "execution_count": 8,
   "metadata": {},
   "outputs": [
    {
     "name": "stdout",
     "output_type": "stream",
     "text": [
      "Food: Butter Pecan Cookies, Distinct Categories: 2, Categories: Dessert, Drop Cookies\n",
      "Food: Cabbage Soup, Distinct Categories: 10, Categories: < 4 Hours, Lunch/Snacks, < 30 Mins, Vegetable, Clear Soup, Low Cholesterol, Stocks, Meat, Easy, < 60 Mins\n",
      "Food: Boston Cream Pie, Distinct Categories: 3, Categories: Pie, Dessert, < 60 Mins\n",
      "Food: Biryani, Distinct Categories: 2, Categories: Chicken Breast, Indian\n"
     ]
    }
   ],
   "source": [
    "check_inconsistent_recipe_categories = \"\"\"\n",
    "PREFIX schema: <https://schema.org/>\n",
    "\n",
    "SELECT ?foodName (COUNT(DISTINCT ?category) AS ?distinctCategories) (GROUP_CONCAT(DISTINCT ?category; SEPARATOR=\", \") AS ?categories)\n",
    "WHERE {\n",
    "  ?recipe a schema:Recipe ;\n",
    "          schema:name ?foodName ;\n",
    "          schema:recipeCategory ?category .\n",
    "}\n",
    "GROUP BY ?foodName\n",
    "HAVING (COUNT(DISTINCT ?category) > 1)\n",
    "\"\"\"\n",
    "\n",
    "query_return = g.query(check_inconsistent_recipe_categories)\n",
    "for foodName, distinctCategories, categories in query_return:\n",
    "    print(f\"Food: {foodName}, Distinct Categories: {distinctCategories}, Categories: {categories}\")"
   ]
  },
  {
   "cell_type": "code",
   "execution_count": 9,
   "metadata": {},
   "outputs": [
    {
     "name": "stdout",
     "output_type": "stream",
     "text": [
      "Recipe: http://kg-course/food-nutrition/recipe/41, Property: https://schema.org/fiberContent, Value: -0.2\n",
      "Recipe: http://kg-course/food-nutrition/recipe/45, Property: https://schema.org/proteinContent, Value: -4.2\n"
     ]
    }
   ],
   "source": [
    "check_negative_values = \"\"\"\n",
    "PREFIX schema: <https://schema.org/>\n",
    "\n",
    "SELECT ?recipe ?property ?value\n",
    "WHERE {\n",
    "  ?recipe a schema:Recipe ;\n",
    "          schema:nutrition ?nutrition .\n",
    "  ?nutrition ?property ?value .\n",
    "  FILTER (\n",
    "    (?property IN (schema:proteinContent, schema:fiberContent)) &&\n",
    "    (isLiteral(?value) && regex(str(?value), \"^-\"))\n",
    "  )\n",
    "}\n",
    "\"\"\"\n",
    "\n",
    "query_return = g.query(check_negative_values)\n",
    "for recipe, prop, value in query_return:\n",
    "    print(f\"Recipe: {recipe}, Property: {prop}, Value: {value}\")"
   ]
  },
  {
   "cell_type": "code",
   "execution_count": 10,
   "metadata": {},
   "outputs": [
    {
     "name": "stdout",
     "output_type": "stream",
     "text": [
      "Recipe: http://kg-course/food-nutrition/recipe/74837, Property: https://schema.org/prepTime, Duration: 45, Datatype: http://www.w3.org/2001/XMLSchema#int\n"
     ]
    }
   ],
   "source": [
    "check_duration_validity = \"\"\"\n",
    "PREFIX schema: <https://schema.org/>\n",
    "PREFIX xsd: <http://www.w3.org/2001/XMLSchema#>\n",
    "\n",
    "SELECT ?recipe ?property ?duration (DATATYPE(?duration) AS ?datatype)\n",
    "WHERE {\n",
    "  ?recipe a schema:Recipe ;\n",
    "          ?property ?duration .\n",
    "  FILTER (\n",
    "    (?property IN (schema:cookTime, schema:prepTime)) &&\n",
    "    ( !isLiteral(?duration) || DATATYPE(?duration) != xsd:duration )\n",
    "  )\n",
    "}\n",
    "\"\"\"\n",
    "\n",
    "query_return = g.query(check_duration_validity)\n",
    "for recipe, property, duration, datatype in query_return:\n",
    "    print(f\"Recipe: {recipe}, Property: {property}, Duration: {duration}, Datatype: {datatype}\")"
   ]
  },
  {
   "cell_type": "code",
   "execution_count": 23,
   "metadata": {},
   "outputs": [
    {
     "name": "stdout",
     "output_type": "stream",
     "text": [
      "Subject: http://kg-course/food-nutrition/recipe/241266, Value: '\"< 15 Mins\"'\n",
      "Subject: http://kg-course/food-nutrition/recipe/262155, Value: '\"< 60 Mins\"'\n",
      "Subject: http://kg-course/food-nutrition/recipe/484928, Value: '\"< 60 Mins\"'\n",
      "Subject: http://kg-course/food-nutrition/recipe/323867, Value: '\"< 4 Hours\"'\n",
      "Subject: http://kg-course/food-nutrition/recipe/536304, Value: '\"< 4 Hours\"'\n"
     ]
    }
   ],
   "source": [
    "check_inconsistent_quote = \"\"\"\n",
    "PREFIX schema: <https://schema.org/>\n",
    "\n",
    "SELECT ?subject ?value\n",
    "WHERE {\n",
    "  ?subject schema:keywords ?value .\n",
    "  FILTER (\n",
    "    isLiteral(?value) &&\n",
    "    regex(str(?value), \"^\\\\\\\\\\\\\\\"<\") \n",
    "  )\n",
    "}\n",
    "\"\"\"\n",
    "\n",
    "query_return = g.query(check_inconsistent_quote)\n",
    "for subject, value in query_return:\n",
    "    print(f\"Subject: {subject}, Value: '{value}'\")"
   ]
  },
  {
   "cell_type": "code",
   "execution_count": 26,
   "metadata": {},
   "outputs": [
    {
     "name": "stdout",
     "output_type": "stream",
     "text": [
      "Nutrition ID: http://kg-course/food-nutrition/recipe/42/nutrition, Property: https://schema.org/calories, ValueCount: 4\n",
      "Nutrition ID: http://kg-course/food-nutrition/recipe/42/nutrition, Property: https://schema.org/carbohydrateContent, ValueCount: 4\n",
      "Nutrition ID: http://kg-course/food-nutrition/recipe/42/nutrition, Property: https://schema.org/cholesterolContent, ValueCount: 3\n",
      "Nutrition ID: http://kg-course/food-nutrition/recipe/42/nutrition, Property: https://schema.org/fatContent, ValueCount: 4\n",
      "Nutrition ID: http://kg-course/food-nutrition/recipe/42/nutrition, Property: https://schema.org/fiberContent, ValueCount: 4\n",
      "Nutrition ID: http://kg-course/food-nutrition/recipe/42/nutrition, Property: https://schema.org/proteinContent, ValueCount: 4\n",
      "Nutrition ID: http://kg-course/food-nutrition/recipe/42/nutrition, Property: https://schema.org/saturatedFatContent, ValueCount: 3\n",
      "Nutrition ID: http://kg-course/food-nutrition/recipe/42/nutrition, Property: https://schema.org/sodiumContent, ValueCount: 4\n",
      "Nutrition ID: http://kg-course/food-nutrition/recipe/42/nutrition, Property: https://schema.org/sugarContent, ValueCount: 4\n"
     ]
    }
   ],
   "source": [
    "check_multiple_nutrition_values = \"\"\"\n",
    "PREFIX schema: <https://schema.org/>\n",
    "\n",
    "SELECT ?nutritionNode ?property (COUNT(?value) AS ?valueCount)\n",
    "WHERE {\n",
    "  VALUES ?nutritionNode { <http://kg-course/food-nutrition/recipe/42/nutrition> }\n",
    "\n",
    "  ?nutritionNode ?property ?value .\n",
    "  FILTER (\n",
    "    ?property IN (\n",
    "      schema:calories,\n",
    "      schema:carbohydrateContent,\n",
    "      schema:cholesterolContent,\n",
    "      schema:fatContent,\n",
    "      schema:fiberContent,\n",
    "      schema:proteinContent,\n",
    "      schema:saturatedFatContent,\n",
    "      schema:sodiumContent,\n",
    "      schema:sugarContent\n",
    "    )\n",
    "  )\n",
    "}\n",
    "GROUP BY ?nutritionNode ?property\n",
    "HAVING (COUNT(?value) > 1)\n",
    "\"\"\"\n",
    "query_return = g.query(check_multiple_nutrition_values)\n",
    "for nutritionNode, prop, valueCount in query_return:\n",
    "    print(f\"Nutrition ID: {nutritionNode}, Property: {prop}, ValueCount: {valueCount}\")"
   ]
  }
 ],
 "metadata": {
  "kernelspec": {
   "display_name": "Python 3",
   "language": "python",
   "name": "python3"
  },
  "language_info": {
   "codemirror_mode": {
    "name": "ipython",
    "version": 3
   },
   "file_extension": ".py",
   "mimetype": "text/x-python",
   "name": "python",
   "nbconvert_exporter": "python",
   "pygments_lexer": "ipython3",
   "version": "3.8.10"
  }
 },
 "nbformat": 4,
 "nbformat_minor": 4
}
